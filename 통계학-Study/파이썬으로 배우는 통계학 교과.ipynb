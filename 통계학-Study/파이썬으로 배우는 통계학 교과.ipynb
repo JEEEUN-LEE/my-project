{
 "cells": [
  {
   "cell_type": "markdown",
   "id": "81157fcd",
   "metadata": {},
   "source": [
    "- 통계학 공부가 어려워 포기했지만, 다시 도전하고자 하는 사람 대상\n",
    "- 확률/통계 이론을 파이썬으로 시뮬레이션하여 어찌저찌 계산을 할 수 있지만 이해되지 않는다라고 느끼는 사람 도움.\n",
    "- 통계학 입무 외에도 통계모델을 이용한 예측 방법을 다루고, 머신러닝과의 접점을 설명."
   ]
  },
  {
   "cell_type": "markdown",
   "id": "ce004f62",
   "metadata": {},
   "source": [
    "# 1장. 통계학의 기본 사고방식, 통계학 이점"
   ]
  },
  {
   "cell_type": "markdown",
   "id": "b3723a6b",
   "metadata": {},
   "source": [
    "- 통계학이란, 데이터를 수집/표시/해석하는 과학 이라고 정의\n",
    "- 통계학이란, 데이터를 잘 활용하는 방법을 배우는 학문\n",
    "- 1. 기술 통계 2. 추론 통계\n",
    "- 기술통계란, 데이터를 정리하고 요약하는 데 사용하는 통계학의 한 분야\n",
    " 기술통계는 데이터 해석이나 데이터 간의 비교를 간단하게 하면서 가능한 정보를 잃지 않기 위해 필요하다\n",
    "- 추론통계란, 갖고 있지 않은 미지의 데이터를 추측하는 통계학의 한 분야\n",
    " 추론통계는 아직 얻지 못한 미지의 데이터를 논의할 때 필요하다\n",
    "\n",
    " - 표본의 확률적 변동과 구간 추정\n",
    " 다른 결과를 얻을 수 있는걸 편차라고 하고, 표본조사를 반복하면 또 다른 결과를 얻으니 표본에서 계산된 평균값은 확률적 변동이 있다. \n",
    " 추론 통계의 역할 중 하나는 이 편차의 크기를 평가하는 것. \n",
    " 추론 통계를 배우면 구간추정과 가설검정을 수행할 수 있다."
   ]
  },
  {
   "cell_type": "markdown",
   "id": "115cdd6d",
   "metadata": {},
   "source": []
  },
  {
   "cell_type": "markdown",
   "id": "e40f2782",
   "metadata": {},
   "source": [
    "# 2장. 파이썬 설명, numpy pandas 사용법"
   ]
  },
  {
   "cell_type": "markdown",
   "id": "d375811d",
   "metadata": {},
   "source": [
    "- 주피터노트북은 프로그램을 작성할 때 사용하는 도구. \n",
    "- IDE: 통합개발환경. 파이참, 비주얼 스튜디오 같은 것. 긴 프로그램을 작성할 때 편리한 기능이 있는 소프트웨어\n",
    "\n",
    "- 결과를 화면에 출력할 때 자주 사용하는 것 print() 함수\n",
    "- 데이터 구조와 계산 로직을 함께 묶어둔 것 \"클래스\"\n",
    "class 클래스이름:\n",
    "    def 함수명1(인수):\n",
    "        함수명1의 처리\n",
    "    def 함수명2(인수):\n",
    "        함수명2의 처리\n",
    "\n",
    "- if 문을 사용한 분기\n",
    "- for 문을 사용한 반복 실행\n",
    "\n",
    "- 넘파이는 배열 데이터를 다루는 클래스, 행렬 연산에 주로 사용\n",
    "- 판다스는 데이터프레임 \n",
    "\n",
    "np.array 배열 형식으로 데이터를 저장하면, 리스트일 때 오류일 연산도 가능.\n",
    "sample_array*2 는 리스트 각 요소에 2를 곱해줌.\n"
   ]
  },
  {
   "cell_type": "markdown",
   "id": "13eb9912",
   "metadata": {},
   "source": [
    "# 3장. 기술 통계 설명 "
   ]
  },
  {
   "cell_type": "markdown",
   "id": "09dc6b7d",
   "metadata": {},
   "source": [
    "## 3-1~3-2장"
   ]
  },
  {
   "cell_type": "code",
   "execution_count": 1,
   "id": "c21cf315",
   "metadata": {},
   "outputs": [],
   "source": [
    "# 시계열 데이터와 횡단면 데이터\n",
    "## 시계열 데이터: 시간에 따라 변화하는 데이터\n",
    "## 횡단면 데이터: 서로 다른 대상에서 얻은 데이터 Ex. 2000년 1월에 100개 매장의 매출 분석\n",
    "\n",
    "## 표본 합계\n",
    "## 표본 평균 "
   ]
  },
  {
   "cell_type": "markdown",
   "id": "f36f4f46",
   "metadata": {},
   "source": [
    "- 통계학에서 수식을 도망치는 것은 오히려 비효율적으로 먼 길을 돌아가야 할 것입니다.\n",
    "- 수식을 사용함으로써 짧고 오해를 낳지 않는 표현이 가능합니다. \n",
    "- 제 2의 언어라고 생각하며 수식을 읽는 기술을 배운다고 생각해봅니다.\n",
    "- 수식으로 표현하는 이유는, 데이터 변화에 유연하게 대응할 수 있다는 점/ 표본 크기가 크더라도 다루기 쉽다는 점의 이유 때문입니다."
   ]
  },
  {
   "cell_type": "markdown",
   "id": "508396ca",
   "metadata": {},
   "source": [
    "## 3-3장"
   ]
  },
  {
   "cell_type": "markdown",
   "id": "d4c33830",
   "metadata": {},
   "source": [
    "- 도수분포는 데이터가 나온 횟수를 정리한 목록이다. \n",
    "- 범주형 데이터는 관찰된 횟수를 카운트하여 도수를 얻을 수 있지만, 연속형 데이터는 완전히 일치하는 값이 드물기 때문에 몇 개의 범위로 분할하기도 한다. "
   ]
  },
  {
   "cell_type": "code",
   "execution_count": null,
   "id": "f58a07e3",
   "metadata": {},
   "outputs": [],
   "source": [
    "# 범주형 도수 분포\n",
    "category_data['species'].value_counts(sort=False) #sort=False: 도수 순대로 정렬 X\n",
    "\n",
    "# 수치형 도수 분포\n",
    "numeric_data['length'].value_counts(bins = 3) #데이터를 3개의 범위로 나누어 도수 분포를 계산"
   ]
  },
  {
   "cell_type": "markdown",
   "id": "e02a442d",
   "metadata": {},
   "source": [
    "- 상대도수 분포는 전체를 1로 두고 각 도수가 차지하는 비율을 나타낸다.\n",
    "- 누적도수분포는 도수의 누작 값을 계산한 것이다.\n",
    "\n",
    "- 히스토그램은 도수분포를 시각화한 그래프이다.\n",
    "- 커널밀도추정은 히스토그램을 평활화한다. 계급 간 단차를 없애고 부드러운 분포로 나타낼 수 있다."
   ]
  },
  {
   "cell_type": "code",
   "execution_count": null,
   "id": "4dddb8f5",
   "metadata": {},
   "outputs": [],
   "source": [
    "# 데이터프레임 배열로 변환\n",
    "import pandas as pd\n",
    "import numpy as np\n",
    "\n",
    "df['length'].to_numpy() \n",
    "\n",
    "# 표본 크기\n",
    "sample_size = len(df['length']) # 데이터프레임의 길이로 표본 크기 계산\n",
    "# 합계\n",
    "sample_sum = np.sum(length) # 데이터프레임의 'length' 열의 합계 계산\n",
    "# 표본 평균\n",
    "sample_mean = sample_sum / sample_size # 표본 평균 계산\n",
    "# 표본 분산/ 불편 분산\n",
    "sample_variance = np.var(length, ddof=1) # 표본 분산 계산 (ddof=1은 불편 분산을 구할 수 있음)\n",
    "\n",
    "# 표준편차\n",
    "s = np.sqrt(sample_variance) # 표본 분산의 제곱근을 구하여 표준편차 계산    \n",
    "s = np.std(length, ddof=1) # 표준편차 계산 (ddof=1은 불편 표준편차를 구할 수 있음)"
   ]
  },
  {
   "cell_type": "markdown",
   "id": "3c61088d",
   "metadata": {},
   "source": [
    "- 평균값과 표준편차의 비율을 변동계수라고 한다. \n",
    "- 최솟값, 최댓값, 중앙값, 사분위수, 최빈값\n",
    "- pandas의 describe 함수를 사용하면 여러 통계량을 구할 수 있다. "
   ]
  },
  {
   "cell_type": "markdown",
   "id": "44a46d00",
   "metadata": {},
   "source": [
    "## 3-4장"
   ]
  },
  {
   "cell_type": "markdown",
   "id": "289741c1",
   "metadata": {},
   "source": [
    "# 다변량 데이터 통계량\n",
    "\n",
    "- 공분산은 두 연속형 변수의 관계를 살필 때 사용하는 통계량이다\n",
    "공분산 0: 관계성 없음\n",
    "공분산 > 0: 변수 한쪽이 큰 값을 갖게되면 다른 쪽도 커짐\n",
    "- 공분산 행렬은 여러 변수의 분산과 공분산을 행렬 형태로 정리한 것"
   ]
  },
  {
   "cell_type": "code",
   "execution_count": null,
   "id": "11f3c39b",
   "metadata": {},
   "outputs": [],
   "source": [
    "# 표본 분산\n",
    "s2_x = np.var(x, ddof = 0) \n",
    "s2_y = np.var(y, ddof = 0)\n",
    "# 공분산\n",
    "cov = np.cov(x, y, ddof = 0) # ddof=0은 모분산을 구할 때 사용`"
   ]
  },
  {
   "cell_type": "markdown",
   "id": "bb1d9a3a",
   "metadata": {},
   "source": [
    "- 피어슨 상관계수는 공분산을 최댓값 1, 최솟값 -1로 표준화한 것이다\n",
    "- 상관행렬은 여러 변수으 상관계수 목록을 행렬 형태로 정리한 것 \n",
    "    - 상관계수가 xy이든, yx이든 똑같다. 따라서 상관행렬에서 같은 값이 중복된다. 또한 같은 변수끼리 상관계수를 구하면 반드시 1이 되므로 대각선이 1이 줄지어 있다."
   ]
  },
  {
   "cell_type": "code",
   "execution_count": null,
   "id": "3f5764d1",
   "metadata": {},
   "outputs": [],
   "source": [
    "rho = cov / np.sqrt(s2_x * s2_y) # 피어슨 상관계수 계산\n",
    "round(rho, 3)"
   ]
  },
  {
   "cell_type": "markdown",
   "id": "a89bf90e",
   "metadata": {},
   "source": [
    "- 교차분석표(분할표)를 사용하면, 범주형 데이터 간의 관계를 확인할 때 편리하다. \n",
    "- pd.crosstab() 함수를 사용할 수 있다. \n",
    "\n",
    "        \n",
    "        cross1 = pd.crosstab(disease['sunlight'], disease['disease'])\n",
    "        print(cross1)\n",
    "\n",
    "- pd.pivot_table 함수를 사용할 수 있다.\n",
    "\n",
    "        cross2 = pd.pivot_table(data = shoes, values = 'sales', \n",
    "        aggfunc = 'sum', index = 'store', columns = 'color')\n",
    "        print(cross2)"
   ]
  },
  {
   "cell_type": "markdown",
   "id": "2849de46",
   "metadata": {},
   "source": []
  }
 ],
 "metadata": {
  "kernelspec": {
   "display_name": "notebook_kernel",
   "language": "python",
   "name": "notebook_kernel"
  },
  "language_info": {
   "codemirror_mode": {
    "name": "ipython",
    "version": 3
   },
   "file_extension": ".py",
   "mimetype": "text/x-python",
   "name": "python",
   "nbconvert_exporter": "python",
   "pygments_lexer": "ipython3",
   "version": "3.12.8"
  }
 },
 "nbformat": 4,
 "nbformat_minor": 5
}

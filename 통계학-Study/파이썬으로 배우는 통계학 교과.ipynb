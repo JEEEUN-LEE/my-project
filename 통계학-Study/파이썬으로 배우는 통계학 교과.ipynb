{
 "cells": [
  {
   "cell_type": "markdown",
   "id": "81157fcd",
   "metadata": {},
   "source": [
    "- 통계학 공부가 어려워 포기했지만, 다시 도전하고자 하는 사람 대상\n",
    "- 확률/통계 이론을 파이썬으로 시뮬레이션하여 어찌저찌 계산을 할 수 있지만 이해되지 않는다라고 느끼는 사람 도움.\n",
    "- 통계학 입무 외에도 통계모델을 이용한 예측 방법을 다루고, 머신러닝과의 접점을 설명."
   ]
  },
  {
   "cell_type": "markdown",
   "id": "ce004f62",
   "metadata": {},
   "source": [
    "# 1장. 통계학의 기본 사고방식, 통계학 이점"
   ]
  },
  {
   "cell_type": "markdown",
   "id": "b3723a6b",
   "metadata": {},
   "source": [
    "- 통계학이란, 데이터를 수집/표시/해석하는 과학 이라고 정의\n",
    "- 통계학이란, 데이터를 잘 활용하는 방법을 배우는 학문\n",
    "- 1. 기술 통계 2. 추론 통계\n",
    "- 기술통계란, 데이터를 정리하고 요약하는 데 사용하는 통계학의 한 분야\n",
    " 기술통계는 데이터 해석이나 데이터 간의 비교를 간단하게 하면서 가능한 정보를 잃지 않기 위해 필요하다\n",
    "- 추론통계란, 갖고 있지 않은 미지의 데이터를 추측하는 통계학의 한 분야\n",
    " 추론통계는 아직 얻지 못한 미지의 데이터를 논의할 때 필요하다\n",
    "\n",
    " - 표본의 확률적 변동과 구간 추정\n",
    " 다른 결과를 얻을 수 있는걸 편차라고 하고, 표본조사를 반복하면 또 다른 결과를 얻으니 표본에서 계산된 평균값은 확률적 변동이 있다. \n",
    " 추론 통계의 역할 중 하나는 이 편차의 크기를 평가하는 것. \n",
    " 추론 통계를 배우면 구간추정과 가설검정을 수행할 수 있다."
   ]
  },
  {
   "cell_type": "markdown",
   "id": "115cdd6d",
   "metadata": {},
   "source": []
  },
  {
   "cell_type": "markdown",
   "id": "e40f2782",
   "metadata": {},
   "source": [
    "# 2장. 파이썬 설명, numpy pandas 사용법"
   ]
  },
  {
   "cell_type": "markdown",
   "id": "d375811d",
   "metadata": {},
   "source": [
    "- 주피터노트북은 프로그램을 작성할 때 사용하는 도구. \n",
    "- IDE: 통합개발환경. 파이참, 비주얼 스튜디오 같은 것. 긴 프로그램을 작성할 때 편리한 기능이 있는 소프트웨어\n",
    "\n",
    "- 결과를 화면에 출력할 때 자주 사용하는 것 print() 함수\n",
    "- 데이터 구조와 계산 로직을 함께 묶어둔 것 \"클래스\"\n",
    "class 클래스이름:\n",
    "    def 함수명1(인수):\n",
    "        함수명1의 처리\n",
    "    def 함수명2(인수):\n",
    "        함수명2의 처리\n",
    "\n",
    "- if 문을 사용한 분기\n",
    "- for 문을 사용한 반복 실행\n",
    "\n",
    "- 넘파이는 배열 데이터를 다루는 클래스, 행렬 연산에 주로 사용\n",
    "- 판다스는 데이터프레임 \n",
    "\n",
    "np.array 배열 형식으로 데이터를 저장하면, 리스트일 때 오류일 연산도 가능.\n",
    "sample_array*2 는 리스트 각 요소에 2를 곱해줌.\n"
   ]
  },
  {
   "cell_type": "markdown",
   "id": "13eb9912",
   "metadata": {},
   "source": [
    "# 3장. 기술 통계 설명 "
   ]
  },
  {
   "cell_type": "code",
   "execution_count": null,
   "id": "c21cf315",
   "metadata": {},
   "outputs": [],
   "source": []
  },
  {
   "cell_type": "markdown",
   "id": "f36f4f46",
   "metadata": {},
   "source": []
  },
  {
   "cell_type": "markdown",
   "id": "e02a442d",
   "metadata": {},
   "source": []
  }
 ],
 "metadata": {
  "kernelspec": {
   "display_name": "notebook_kernel",
   "language": "python",
   "name": "notebook_kernel"
  },
  "language_info": {
   "name": "python",
   "version": "3.12.8"
  }
 },
 "nbformat": 4,
 "nbformat_minor": 5
}

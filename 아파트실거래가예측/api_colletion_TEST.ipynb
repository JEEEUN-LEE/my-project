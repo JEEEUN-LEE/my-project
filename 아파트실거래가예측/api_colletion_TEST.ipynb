{
 "cells": [
  {
   "cell_type": "code",
   "execution_count": null,
   "metadata": {},
   "outputs": [
    {
     "name": "stdout",
     "output_type": "stream",
     "text": [
      "응답 코드: 200\n",
      "<?xml version=\"1.0\" encoding=\"utf-8\" standalone=\"yes\"?><response><header><resultCode>000</resultCode><resultMsg>OK</resultMsg></header><body><items><item><aptDong> </aptDong><aptNm>아차산인앤인W클래스101동</aptNm><buildYear>2007</buildYear><buyerGbn>개인</buyerGbn><cdealDay> </cdealDay><cdealType> </cdealType><dealAmount>87,000</dealAmount><dealDay>16</dealDay><dealMonth>1</dealMonth><dealYear>2024</dealYear><dealingGbn>중개거래</dealingGbn><estateAgentSggNm>서울 광진구</estateAgentSggNm><excluUseAr>116.36</excluUseAr><floor>7</floor><jibun>58-26</jibun><landLeaseholdGbn>N</landLeaseholdGbn><rgstDate>24.05.31</rgstDate><sggCd>11215</sggCd><slerGbn>개인</slerGbn><umdNm>구의동</umdNm></item><item><aptDong>A</aptDong><aptNm>더샵스타시티</aptNm><buildYear>2007</buildYear><buyerGbn>개인</buyerGbn><cdealDay> </cdealDay><cdealType> </cdealType><dealAmount>110,000</dealAmount><dealDay>31</dealDay><dealMonth>1</dealMonth><dealYear>2024</dealYear><dealingGbn>직거래</dealingGbn><estateAgentSggNm> </estateAgentSggNm><excluUseAr>96.98</excluUseAr><floor>18</floor><jibun>227-7</jibun><landLeaseholdGbn>N</landLeaseholdGbn><rgstDate>24.02.29</rgstDate><sggCd>11215</sggCd><slerGbn>개인</slerGbn><umdNm>자양동</umdNm></item><item><aptDong>5</aptDong><aptNm>극동1</aptNm><buildYear>1985</buildYear><buyerGbn>개인</buyerGbn><cdealDay> </cdealDay><cdealType> </cdealType><dealAmount>220,000</dealAmount><dealDay>30</dealDay><dealMonth>1</dealMonth><dealYear>2024</dealYear><dealingGbn>중개거래</dealingGbn><estateAgentSggNm>서울 광진구</estateAgentSggNm><excluUseAr>156.92</excluUseAr><floor>8</floor><jibun>218-1</jibun><landLeaseholdGbn>N</landLeaseholdGbn><rgstDate>24.03.15</rgstDate><sggCd>11215</sggCd><slerGbn>개인</slerGbn><umdNm>광장동</umdNm></item><item><aptDong>1403</aptDong><aptNm>광장힐스테이트</aptNm><buildYear>2012</buildYear><buyerGbn>개인</buyerGbn><cdealDay> </cdealDay><cdealType> </cdealType><dealAmount>211,000</dealAmount><dealDay>26</dealDay><dealMonth>1</dealMonth><dealYear>2024</dealYear><dealingGbn>중개거래</dealingGbn><estateAgentSggNm>서울 광진구</estateAgentSggNm><excluUseAr>130.17</excluUseAr><floor>19</floor><jibun>582</jibun><landLeaseholdGbn>N</landLeaseholdGbn><rgstDate>24.04.05</rgstDate><sggCd>11215</sggCd><slerGbn>개인</slerGbn><umdNm>광장동</umdNm></item><item><aptDong>210</aptDong><aptNm>구의현대2단지</aptNm><buildYear>1996</buildYear><buyerGbn>개인</buyerGbn><cdealDay> </cdealDay><cdealType> </cdealType><dealAmount>142,000</dealAmount><dealDay>31</dealDay><dealMonth>1</dealMonth><dealYear>2024</dealYear><dealingGbn>중개거래</dealingGbn><estateAgentSggNm>서울 광진구</estateAgentSggNm><excluUseAr>84.86</excluUseAr><floor>25</floor><jibun>611</jibun><landLeaseholdGbn>N</landLeaseholdGbn><rgstDate>24.04.30</rgstDate><sggCd>11215</sggCd><slerGbn>개인</slerGbn><umdNm>구의동</umdNm></item><item><aptDong>31</aptDong><aptNm>워커힐</aptNm><buildYear>1978</buildYear><buyerGbn>개인</buyerGbn><cdealDay> </cdealDay><cdealType> </cdealType><dealAmount>260,000</dealAmount><dealDay>24</dealDay><dealMonth>1</dealMonth><dealYear>2024</dealYear><dealingGbn>중개거래</dealingGbn><estateAgentSggNm>서울 광진구</estateAgentSggNm><excluUseAr>166.91</excluUseAr><floor>7</floor><jibun>145-8</jibun><landLeaseholdGbn>N</landLeaseholdGbn><rgstDate>24.03.28</rgstDate><sggCd>11215</sggCd><slerGbn>개인</slerGbn><umdNm>광장동</umdNm></item><item><aptDong> </aptDong><aptNm>한솔리베르</aptNm><buildYear>2002</buildYear><buyerGbn>개인</buyerGbn><cdealDay> </cdealDay><cdealType> </cdealType><dealAmount>113,000</dealAmount><dealDay>26</dealDay><dealMonth>1</dealMonth><dealYear>2024</dealYear><dealingGbn>중개거래</dealingGbn><estateAgentSggNm>서울 광진구</estateAgentSggNm><excluUseAr>83.31</excluUseAr><floor>11</floor><jibun>672</jibun><landLeaseholdGbn>N</landLeaseholdGbn><rgstDate>24.05.14</rgstDate><sggCd>11215</sggCd><slerGbn>개인</slerGbn><umdNm>자양동</umdNm></item><item><aptDong>701</aptDong><aptNm>자양우성7</aptNm><buildYear>1998</buildYear><buyerGbn>개인</buyerGbn><cdealDay> </cdealDay><cdealType> </cdealType><dealAmount>98,000</dealAmount><dealDay>27</dealDay><dealMonth>1</dealMonth><dealYear>2024</dealYear><dealingGbn>중개거래</dealingGbn><estateAgentSggNm>서울 광진구</estateAgentSggNm><excluUseAr>59.94</excluUseAr><floor>8</floor><jibun>783-1</jibun><landLeaseholdGbn>N</landLeaseholdGbn><rgstDate>24.03.29</rgstDate><sggCd>11215</sggCd><slerGbn>개인</slerGbn><umdNm>자양동</umdNm></item><item><aptDong>801</aptDong><aptNm>현대8(801동,802동)</aptNm><buildYear>1995</buildYear><buyerGbn>개인</buyerGbn><cdealDay> </cdealDay><cdealType> </cdealType><dealAmount>142,500</dealAmount><dealDay>29</dealDay><dealMonth>1</dealMonth><dealYear>2024</dealYear><dealingGbn>중개거래</dealingGbn><estateAgentSggNm>서울 광진구</estateAgentSggNm><excluUseAr>84.92</excluUseAr><floor>16</floor><jibun>565</jibun><landLeaseholdGbn>N</landLeaseholdGbn><rgstDate>24.04.18</rgstDate><sggCd>11215</sggCd><slerGbn>개인</slerGbn><umdNm>광장동</umdNm></item><item><aptDong>701</aptDong><aptNm>자양7차현대홈타운</aptNm><buildYear>2001</buildYear><buyerGbn>개인</buyerGbn><cdealDay> </cdealDay><cdealType> </cdealType><dealAmount>120,000</dealAmount><dealDay>27</dealDay><dealMonth>1</dealMonth><dealYear>2024</dealYear><dealingGbn>중개거래</dealingGbn><estateAgentSggNm>서울 광진구</estateAgentSggNm><excluUseAr>84.7</excluUseAr><floor>4</floor><jibun>788</jibun><landLeaseholdGbn>N</landLeaseholdGbn><rgstDate>24.04.11</rgstDate><sggCd>11215</sggCd><slerGbn>개인</slerGbn><umdNm>자양동</umdNm></item></items><numOfRows>10</numOfRows><pageNo>1</pageNo><totalCount>59</totalCount></body></response>\n"
     ]
    }
   ],
   "source": [
    "import requests\n",
    "\n",
    "# API 엔드포인트\n",
    "url = \"http://apis.data.go.kr/1613000/RTMSDataSvcAptTrade/getRTMSDataSvcAptTrade\"\n",
    "\n",
    "service_key = \"jYmQgKsPeM/KffLGjHFgvyTBGB/6ODgIGe2qZjXfsd6NG9d4jMtfl7gmx1MUZHpc65LVhAG3ChnTrqHlBr3AHQ==\"\n",
    "gu_code = \"11215\"  # 서울 광진구\n",
    "base_date = \"202401\"  # 조회 연월 (YYYYMM)\n",
    "\n",
    "# API 요청 파라미터\n",
    "params = {\n",
    "    \"LAWD_CD\": gu_code,\n",
    "    \"DEAL_YMD\": base_date,\n",
    "    \"serviceKey\": service_key  # Decoding된 인증키 사용\n",
    "}\n",
    "\n",
    "# API 호출\n",
    "res = requests.get(url, params=params)\n",
    "\n",
    "# 응답 코드 및 내용 확인\n",
    "print(f\"응답 코드: {res.status_code}\")\n",
    "print(res.text)"
   ]
  },
  {
   "cell_type": "code",
   "execution_count": 11,
   "metadata": {},
   "outputs": [
    {
     "data": {
      "text/html": [
       "<div>\n",
       "<style scoped>\n",
       "    .dataframe tbody tr th:only-of-type {\n",
       "        vertical-align: middle;\n",
       "    }\n",
       "\n",
       "    .dataframe tbody tr th {\n",
       "        vertical-align: top;\n",
       "    }\n",
       "\n",
       "    .dataframe thead th {\n",
       "        text-align: right;\n",
       "    }\n",
       "</style>\n",
       "<table border=\"1\" class=\"dataframe\">\n",
       "  <thead>\n",
       "    <tr style=\"text-align: right;\">\n",
       "      <th></th>\n",
       "      <th>aptDong</th>\n",
       "      <th>aptNm</th>\n",
       "      <th>buildYear</th>\n",
       "      <th>buyerGbn</th>\n",
       "      <th>cdealDay</th>\n",
       "      <th>cdealType</th>\n",
       "      <th>dealAmount</th>\n",
       "      <th>dealDay</th>\n",
       "      <th>dealMonth</th>\n",
       "      <th>dealYear</th>\n",
       "      <th>dealingGbn</th>\n",
       "      <th>estateAgentSggNm</th>\n",
       "      <th>excluUseAr</th>\n",
       "      <th>floor</th>\n",
       "      <th>jibun</th>\n",
       "      <th>landLeaseholdGbn</th>\n",
       "      <th>rgstDate</th>\n",
       "      <th>sggCd</th>\n",
       "      <th>slerGbn</th>\n",
       "      <th>umdNm</th>\n",
       "    </tr>\n",
       "  </thead>\n",
       "  <tbody>\n",
       "    <tr>\n",
       "      <th>0</th>\n",
       "      <td></td>\n",
       "      <td>아차산인앤인W클래스101동</td>\n",
       "      <td>2007</td>\n",
       "      <td>개인</td>\n",
       "      <td></td>\n",
       "      <td></td>\n",
       "      <td>87,000</td>\n",
       "      <td>16</td>\n",
       "      <td>1</td>\n",
       "      <td>2024</td>\n",
       "      <td>중개거래</td>\n",
       "      <td>서울 광진구</td>\n",
       "      <td>116.36</td>\n",
       "      <td>7</td>\n",
       "      <td>58-26</td>\n",
       "      <td>N</td>\n",
       "      <td>24.05.31</td>\n",
       "      <td>11215</td>\n",
       "      <td>개인</td>\n",
       "      <td>구의동</td>\n",
       "    </tr>\n",
       "    <tr>\n",
       "      <th>1</th>\n",
       "      <td>A</td>\n",
       "      <td>더샵스타시티</td>\n",
       "      <td>2007</td>\n",
       "      <td>개인</td>\n",
       "      <td></td>\n",
       "      <td></td>\n",
       "      <td>110,000</td>\n",
       "      <td>31</td>\n",
       "      <td>1</td>\n",
       "      <td>2024</td>\n",
       "      <td>직거래</td>\n",
       "      <td></td>\n",
       "      <td>96.98</td>\n",
       "      <td>18</td>\n",
       "      <td>227-7</td>\n",
       "      <td>N</td>\n",
       "      <td>24.02.29</td>\n",
       "      <td>11215</td>\n",
       "      <td>개인</td>\n",
       "      <td>자양동</td>\n",
       "    </tr>\n",
       "    <tr>\n",
       "      <th>2</th>\n",
       "      <td>5</td>\n",
       "      <td>극동1</td>\n",
       "      <td>1985</td>\n",
       "      <td>개인</td>\n",
       "      <td></td>\n",
       "      <td></td>\n",
       "      <td>220,000</td>\n",
       "      <td>30</td>\n",
       "      <td>1</td>\n",
       "      <td>2024</td>\n",
       "      <td>중개거래</td>\n",
       "      <td>서울 광진구</td>\n",
       "      <td>156.92</td>\n",
       "      <td>8</td>\n",
       "      <td>218-1</td>\n",
       "      <td>N</td>\n",
       "      <td>24.03.15</td>\n",
       "      <td>11215</td>\n",
       "      <td>개인</td>\n",
       "      <td>광장동</td>\n",
       "    </tr>\n",
       "    <tr>\n",
       "      <th>3</th>\n",
       "      <td>1403</td>\n",
       "      <td>광장힐스테이트</td>\n",
       "      <td>2012</td>\n",
       "      <td>개인</td>\n",
       "      <td></td>\n",
       "      <td></td>\n",
       "      <td>211,000</td>\n",
       "      <td>26</td>\n",
       "      <td>1</td>\n",
       "      <td>2024</td>\n",
       "      <td>중개거래</td>\n",
       "      <td>서울 광진구</td>\n",
       "      <td>130.17</td>\n",
       "      <td>19</td>\n",
       "      <td>582</td>\n",
       "      <td>N</td>\n",
       "      <td>24.04.05</td>\n",
       "      <td>11215</td>\n",
       "      <td>개인</td>\n",
       "      <td>광장동</td>\n",
       "    </tr>\n",
       "    <tr>\n",
       "      <th>4</th>\n",
       "      <td>210</td>\n",
       "      <td>구의현대2단지</td>\n",
       "      <td>1996</td>\n",
       "      <td>개인</td>\n",
       "      <td></td>\n",
       "      <td></td>\n",
       "      <td>142,000</td>\n",
       "      <td>31</td>\n",
       "      <td>1</td>\n",
       "      <td>2024</td>\n",
       "      <td>중개거래</td>\n",
       "      <td>서울 광진구</td>\n",
       "      <td>84.86</td>\n",
       "      <td>25</td>\n",
       "      <td>611</td>\n",
       "      <td>N</td>\n",
       "      <td>24.04.30</td>\n",
       "      <td>11215</td>\n",
       "      <td>개인</td>\n",
       "      <td>구의동</td>\n",
       "    </tr>\n",
       "  </tbody>\n",
       "</table>\n",
       "</div>"
      ],
      "text/plain": [
       "  aptDong           aptNm buildYear buyerGbn cdealDay cdealType dealAmount  \\\n",
       "0          아차산인앤인W클래스101동      2007       개인                        87,000   \n",
       "1       A          더샵스타시티      2007       개인                       110,000   \n",
       "2       5             극동1      1985       개인                       220,000   \n",
       "3    1403         광장힐스테이트      2012       개인                       211,000   \n",
       "4     210         구의현대2단지      1996       개인                       142,000   \n",
       "\n",
       "  dealDay dealMonth dealYear dealingGbn estateAgentSggNm excluUseAr floor  \\\n",
       "0      16         1     2024       중개거래           서울 광진구     116.36     7   \n",
       "1      31         1     2024        직거래                       96.98    18   \n",
       "2      30         1     2024       중개거래           서울 광진구     156.92     8   \n",
       "3      26         1     2024       중개거래           서울 광진구     130.17    19   \n",
       "4      31         1     2024       중개거래           서울 광진구      84.86    25   \n",
       "\n",
       "   jibun landLeaseholdGbn  rgstDate  sggCd slerGbn umdNm  \n",
       "0  58-26                N  24.05.31  11215      개인   구의동  \n",
       "1  227-7                N  24.02.29  11215      개인   자양동  \n",
       "2  218-1                N  24.03.15  11215      개인   광장동  \n",
       "3    582                N  24.04.05  11215      개인   광장동  \n",
       "4    611                N  24.04.30  11215      개인   구의동  "
      ]
     },
     "execution_count": 11,
     "metadata": {},
     "output_type": "execute_result"
    }
   ],
   "source": [
    "import pandas as pd\n",
    "import xml.etree.ElementTree as ET\n",
    "\n",
    "def get_items(response):\n",
    "    root = ET.fromstring(response.content)\n",
    "    item_list = []\n",
    "    for child in root.find('body').find('items'):\n",
    "        elements = child.findall('*')\n",
    "        data = {}\n",
    "        for element in elements:\n",
    "            tag = element.tag.strip()\n",
    "            text = element.text.strip()\n",
    "            # print tag, text\n",
    "            data[tag] = text\n",
    "        item_list.append(data)  \n",
    "    return item_list\n",
    "    \n",
    "items_list = get_items(res)\n",
    "items = pd.DataFrame(items_list) \n",
    "items.head()"
   ]
  },
  {
   "cell_type": "code",
   "execution_count": 17,
   "metadata": {},
   "outputs": [
    {
     "name": "stdout",
     "output_type": "stream",
     "text": [
      "        법정동코드           법정동명 폐지여부\n",
      "0  1100000000          서울특별시   존재\n",
      "1  1111000000      서울특별시 종로구   존재\n",
      "2  1111010100  서울특별시 종로구 청운동   존재\n",
      "3  1111010200  서울특별시 종로구 신교동   존재\n",
      "4  1111010300  서울특별시 종로구 궁정동   존재\n"
     ]
    }
   ],
   "source": [
    "code_file = r\"C:\\Users\\jee36\\Desktop\\데이터_project\\아파트실거래가예측\\법정동코드 전체자료.txt\"\n",
    "code = pd.read_csv(code_file, sep='\\t', encoding='utf-8')\n",
    "\n",
    "# 데이터 확인\n",
    "print(code.head())"
   ]
  },
  {
   "cell_type": "code",
   "execution_count": 18,
   "metadata": {},
   "outputs": [],
   "source": [
    "code.columns = ['code', 'name', 'is_exist']"
   ]
  },
  {
   "cell_type": "code",
   "execution_count": 19,
   "metadata": {},
   "outputs": [],
   "source": [
    "code = code [code['is_exist'] == '존재']"
   ]
  },
  {
   "cell_type": "code",
   "execution_count": 20,
   "metadata": {},
   "outputs": [
    {
     "name": "stdout",
     "output_type": "stream",
     "text": [
      "1100000000\n",
      "<class 'numpy.int64'>\n"
     ]
    }
   ],
   "source": [
    "print(code['code'][0])\n",
    "print(type(code['code'][0])) ## int64타입\n",
    "\n",
    "## string으로 변경\n",
    "code['code'] = code['code'].apply(str) "
   ]
  },
  {
   "cell_type": "code",
   "execution_count": 21,
   "metadata": {},
   "outputs": [],
   "source": [
    "# 2018-2024년도까지의 데이터를 수집하기 위한 연월 리스트 생성\n",
    "year = [str(\"%02d\" %(y)) for y in range(2018, 2024)]\n",
    "month = [str(\"%02d\" %(m)) for m in range(1, 13)]\n",
    "base_date_list = [\"%s%s\" %(y, m) for y in year for m in month ]"
   ]
  },
  {
   "cell_type": "code",
   "execution_count": 26,
   "metadata": {},
   "outputs": [
    {
     "name": "stdout",
     "output_type": "stream",
     "text": [
      "11680\n"
     ]
    }
   ],
   "source": [
    "gu = \"강남구\"\n",
    "gu_code = code[ (code['name'].str.contains(gu) )]\n",
    "gu_code = gu_code['code'].reset_index(drop=True)\n",
    "gu_code = str(gu_code[0])[0:5]\n",
    "print(gu_code)"
   ]
  },
  {
   "cell_type": "code",
   "execution_count": 27,
   "metadata": {},
   "outputs": [],
   "source": [
    "import requests\n",
    "import datetime\n",
    "\n",
    "def get_data(gu_code, base_date):\n",
    "    url = \"http://apis.data.go.kr/1613000/RTMSDataSvcAptTrade/getRTMSDataSvcAptTrade\"\n",
    "    service_key = \"jYmQgKsPeM/KffLGjHFgvyTBGB/6ODgIGe2qZjXfsd6NG9d4jMtfl7gmx1MUZHpc65LVhAG3ChnTrqHlBr3AHQ==\"\n",
    "    params = {\n",
    "    \"LAWD_CD\": gu_code,\n",
    "    \"DEAL_YMD\": base_date,\n",
    "    \"serviceKey\": service_key  # Decoding된 인증키 사용\n",
    "    }\n",
    "\n",
    "    res = requests.get(url, params=params)\n",
    "    return res"
   ]
  },
  {
   "cell_type": "code",
   "execution_count": 28,
   "metadata": {},
   "outputs": [
    {
     "data": {
      "text/plain": [
       "720"
      ]
     },
     "execution_count": 28,
     "metadata": {},
     "output_type": "execute_result"
    }
   ],
   "source": [
    "items_list = []\n",
    "for base_date in base_date_list:\n",
    "    res = get_data(gu_code, base_date)\n",
    "    items_list += get_items(res)\n",
    "    \n",
    "len(items_list)"
   ]
  },
  {
   "cell_type": "code",
   "execution_count": 30,
   "metadata": {},
   "outputs": [
    {
     "name": "stdout",
     "output_type": "stream",
     "text": [
      "Length of items_list: 720\n",
      "First 5 items in items_list: [{'aptDong': '', 'aptNm': '래미안강남힐즈', 'buildYear': '2014', 'buyerGbn': '', 'cdealDay': '', 'cdealType': '', 'dealAmount': '110,000', 'dealDay': '10', 'dealMonth': '1', 'dealYear': '2018', 'dealingGbn': '', 'estateAgentSggNm': '', 'excluUseAr': '91.96', 'floor': '15', 'jibun': '611', 'landLeaseholdGbn': 'N', 'rgstDate': '', 'sggCd': '11680', 'slerGbn': '', 'umdNm': '자곡동'}, {'aptDong': '', 'aptNm': '롯데캐슬프레미어', 'buildYear': '2007', 'buyerGbn': '', 'cdealDay': '', 'cdealType': '', 'dealAmount': '245,000', 'dealDay': '6', 'dealMonth': '1', 'dealYear': '2018', 'dealingGbn': '', 'estateAgentSggNm': '', 'excluUseAr': '213.435', 'floor': '7', 'jibun': '11', 'landLeaseholdGbn': 'N', 'rgstDate': '', 'sggCd': '11680', 'slerGbn': '', 'umdNm': '삼성동'}, {'aptDong': '', 'aptNm': '성원대치2단지아파트', 'buildYear': '1992', 'buyerGbn': '', 'cdealDay': '', 'cdealType': '', 'dealAmount': '95,000', 'dealDay': '19', 'dealMonth': '1', 'dealYear': '2018', 'dealingGbn': '', 'estateAgentSggNm': '', 'excluUseAr': '49.86', 'floor': '4', 'jibun': '12', 'landLeaseholdGbn': 'N', 'rgstDate': '', 'sggCd': '11680', 'slerGbn': '', 'umdNm': '개포동'}, {'aptDong': '', 'aptNm': '미켈란107', 'buildYear': '2003', 'buyerGbn': '', 'cdealDay': '', 'cdealType': '', 'dealAmount': '130,000', 'dealDay': '19', 'dealMonth': '1', 'dealYear': '2018', 'dealingGbn': '', 'estateAgentSggNm': '', 'excluUseAr': '83', 'floor': '11', 'jibun': '107', 'landLeaseholdGbn': 'N', 'rgstDate': '', 'sggCd': '11680', 'slerGbn': '', 'umdNm': '삼성동'}, {'aptDong': '', 'aptNm': '영풍마드레빌', 'buildYear': '2003', 'buyerGbn': '', 'cdealDay': '', 'cdealType': '', 'dealAmount': '110,000', 'dealDay': '5', 'dealMonth': '1', 'dealYear': '2018', 'dealingGbn': '', 'estateAgentSggNm': '', 'excluUseAr': '84.82', 'floor': '2', 'jibun': '36', 'landLeaseholdGbn': 'N', 'rgstDate': '', 'sggCd': '11680', 'slerGbn': '', 'umdNm': '청담동'}]\n",
      "DataFrame shape: (720, 20)\n",
      "First 5 rows of DataFrame:\n",
      "  aptDong       aptNm buildYear buyerGbn cdealDay cdealType dealAmount  \\\n",
      "0             래미안강남힐즈      2014                                110,000   \n",
      "1            롯데캐슬프레미어      2007                                245,000   \n",
      "2          성원대치2단지아파트      1992                                 95,000   \n",
      "3              미켈란107      2003                                130,000   \n",
      "4              영풍마드레빌      2003                                110,000   \n",
      "\n",
      "  dealDay dealMonth dealYear dealingGbn estateAgentSggNm excluUseAr floor  \\\n",
      "0      10         1     2018                                  91.96    15   \n",
      "1       6         1     2018                                213.435     7   \n",
      "2      19         1     2018                                  49.86     4   \n",
      "3      19         1     2018                                     83    11   \n",
      "4       5         1     2018                                  84.82     2   \n",
      "\n",
      "  jibun landLeaseholdGbn rgstDate  sggCd slerGbn umdNm  \n",
      "0   611                N           11680           자곡동  \n",
      "1    11                N           11680           삼성동  \n",
      "2    12                N           11680           개포동  \n",
      "3   107                N           11680           삼성동  \n",
      "4    36                N           11680           청담동  \n",
      "Saved DataFrame shape: (720, 20)\n",
      "First 5 rows of saved DataFrame:\n",
      "  aptDong       aptNm  buildYear  buyerGbn cdealDay cdealType dealAmount  \\\n",
      "0     NaN     래미안강남힐즈       2014       NaN      NaN       NaN    110,000   \n",
      "1     NaN    롯데캐슬프레미어       2007       NaN      NaN       NaN    245,000   \n",
      "2     NaN  성원대치2단지아파트       1992       NaN      NaN       NaN     95,000   \n",
      "3     NaN      미켈란107       2003       NaN      NaN       NaN    130,000   \n",
      "4     NaN      영풍마드레빌       2003       NaN      NaN       NaN    110,000   \n",
      "\n",
      "   dealDay  dealMonth  dealYear dealingGbn estateAgentSggNm  excluUseAr  \\\n",
      "0       10          1      2018        NaN              NaN      91.960   \n",
      "1        6          1      2018        NaN              NaN     213.435   \n",
      "2       19          1      2018        NaN              NaN      49.860   \n",
      "3       19          1      2018        NaN              NaN      83.000   \n",
      "4        5          1      2018        NaN              NaN      84.820   \n",
      "\n",
      "   floor jibun landLeaseholdGbn rgstDate  sggCd  slerGbn umdNm  \n",
      "0     15   611                N      NaN  11680      NaN   자곡동  \n",
      "1      7    11                N      NaN  11680      NaN   삼성동  \n",
      "2      4    12                N      NaN  11680      NaN   개포동  \n",
      "3     11   107                N      NaN  11680      NaN   삼성동  \n",
      "4      2    36                N      NaN  11680      NaN   청담동  \n"
     ]
    }
   ],
   "source": [
    "import pandas as pd\n",
    "import os\n",
    "\n",
    "# items_list의 길이 확인\n",
    "print(\"Length of items_list:\", len(items_list))\n",
    "\n",
    "# items_list의 일부 내용 확인\n",
    "print(\"First 5 items in items_list:\", items_list[:5])\n",
    "\n",
    "# 데이터프레임 생성\n",
    "items = pd.DataFrame(items_list)\n",
    "print(\"DataFrame shape:\", items.shape)\n",
    "print(\"First 5 rows of DataFrame:\")\n",
    "print(items.head())\n",
    "\n",
    "# 저장할 경로와 파일 이름 지정\n",
    "save_path = r\"C:\\Users\\jee36\\Desktop\\데이터_project\\아파트실거래가예측\\국토부실거래가_API\"\n",
    "file_name = \"%s_%s~%s.csv\" % (gu, year[0], year[-1])\n",
    "full_path = os.path.join(save_path, file_name)\n",
    "\n",
    "# 데이터프레임을 CSV 파일로 저장\n",
    "items.to_csv(full_path, index=False, encoding=\"euc-kr\")\n",
    "\n",
    "# 저장된 파일의 내용 확인\n",
    "saved_items = pd.read_csv(full_path, encoding=\"euc-kr\")\n",
    "print(\"Saved DataFrame shape:\", saved_items.shape)\n",
    "print(\"First 5 rows of saved DataFrame:\")\n",
    "print(saved_items.head())"
   ]
  },
  {
   "cell_type": "code",
   "execution_count": 29,
   "metadata": {},
   "outputs": [],
   "source": [
    "import pandas as pd\n",
    "import os\n",
    "\n",
    "save_path = r\"C:\\Users\\jee36\\Desktop\\데이터_project\\아파트실거래가예측\\국토부실거래가_API\"\n",
    "file_name = \"%s_%s~%s.csv\" % (gu, year[0], year[-1])\n",
    "full_path = os.path.join(save_path, file_name)\n",
    "\n",
    "# 데이터프레임을 CSV 파일로 저장\n",
    "items.to_csv(full_path, index=False, encoding=\"euc-kr\")"
   ]
  },
  {
   "cell_type": "code",
   "execution_count": null,
   "metadata": {},
   "outputs": [],
   "source": []
  },
  {
   "cell_type": "code",
   "execution_count": null,
   "metadata": {},
   "outputs": [],
   "source": []
  }
 ],
 "metadata": {
  "kernelspec": {
   "display_name": "Python (myenv)",
   "language": "python",
   "name": "myenv_kernel"
  },
  "language_info": {
   "codemirror_mode": {
    "name": "ipython",
    "version": 3
   },
   "file_extension": ".py",
   "mimetype": "text/x-python",
   "name": "python",
   "nbconvert_exporter": "python",
   "pygments_lexer": "ipython3",
   "version": "3.12.8"
  }
 },
 "nbformat": 4,
 "nbformat_minor": 2
}
